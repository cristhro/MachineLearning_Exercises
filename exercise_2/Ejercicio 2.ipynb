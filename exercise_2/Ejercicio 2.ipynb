{
 "metadata": {
  "name": "",
  "signature": "sha256:e8da03defff9eded233d8975038d3c1d30a1227cdd21dffc6262b168bdc8644e"
 },
 "nbformat": 3,
 "nbformat_minor": 0,
 "worksheets": [
  {
   "cells": [
    {
     "cell_type": "code",
     "collapsed": false,
     "input": [],
     "language": "python",
     "metadata": {},
     "outputs": []
    }
   ],
   "metadata": {}
  }
 ]
}